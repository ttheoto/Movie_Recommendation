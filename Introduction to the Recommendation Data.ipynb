{
 "cells": [
  {
   "cell_type": "markdown",
   "metadata": {},
   "source": [
    "### Recommendations with MovieTweetings: Getting to Know The Data\n",
    "\n",
    "Throughout this lesson, you will be working with the [MovieTweetings Data](https://github.com/sidooms/MovieTweetings/tree/master/recsyschallenge2014).  To get started, you can read more about this project and the dataset from the [publication here](http://crowdrec2013.noahlab.com.hk/papers/crowdrec2013_Dooms.pdf).\n",
    "\n",
    "**Note:** There are solutions to each of the notebooks available by hitting the orange jupyter logo in the top left of this notebook.  Additionally, you can watch me work through the solutions on the screencasts that follow each workbook. \n",
    "\n",
    "To get started, read in the libraries and the two datasets you will be using throughout the lesson using the code below.\n",
    "\n",
    " "
   ]
  },
  {
   "cell_type": "code",
   "execution_count": 223,
   "metadata": {},
   "outputs": [],
   "source": [
    "import numpy as np\n",
    "import pandas as pd\n",
    "import matplotlib.pyplot as plt\n",
    "import tests as t\n",
    "from datetime import datetime\n",
    "\n",
    "%matplotlib inline\n",
    "\n",
    "\n",
    "# Read in the MovieTweetings dataset originally taken from https://github.com/sidooms/MovieTweetings/tree/master/latest\n",
    "movies = pd.read_csv('movies.dat', delimiter='::', header=None, names=['movie_id', 'movie', 'genre'], dtype={'movie_id': object}, engine='python')\n",
    "reviews = pd.read_csv('ratings.dat', delimiter='::', header=None, names=['user_id', 'movie_id', 'rating', 'timestamp'], dtype={'movie_id': object, 'user_id': object, 'timestamp': object}, engine='python')"
   ]
  },
  {
   "cell_type": "markdown",
   "metadata": {},
   "source": [
    "#### 1. Take a Look At The Data \n",
    "\n",
    "Take a look at the data and use your findings to fill in the dictionary below with the correct responses to show your understanding of the data."
   ]
  },
  {
   "cell_type": "code",
   "execution_count": 2,
   "metadata": {},
   "outputs": [
    {
     "data": {
      "text/html": [
       "<div>\n",
       "<style scoped>\n",
       "    .dataframe tbody tr th:only-of-type {\n",
       "        vertical-align: middle;\n",
       "    }\n",
       "\n",
       "    .dataframe tbody tr th {\n",
       "        vertical-align: top;\n",
       "    }\n",
       "\n",
       "    .dataframe thead th {\n",
       "        text-align: right;\n",
       "    }\n",
       "</style>\n",
       "<table border=\"1\" class=\"dataframe\">\n",
       "  <thead>\n",
       "    <tr style=\"text-align: right;\">\n",
       "      <th></th>\n",
       "      <th>movie_id</th>\n",
       "      <th>movie</th>\n",
       "      <th>genre</th>\n",
       "    </tr>\n",
       "  </thead>\n",
       "  <tbody>\n",
       "    <tr>\n",
       "      <th>0</th>\n",
       "      <td>0000008</td>\n",
       "      <td>Edison Kinetoscopic Record of a Sneeze (1894)</td>\n",
       "      <td>Documentary|Short</td>\n",
       "    </tr>\n",
       "    <tr>\n",
       "      <th>1</th>\n",
       "      <td>0000010</td>\n",
       "      <td>La sortie des usines Lumière (1895)</td>\n",
       "      <td>Documentary|Short</td>\n",
       "    </tr>\n",
       "    <tr>\n",
       "      <th>2</th>\n",
       "      <td>0000012</td>\n",
       "      <td>The Arrival of a Train (1896)</td>\n",
       "      <td>Documentary|Short</td>\n",
       "    </tr>\n",
       "    <tr>\n",
       "      <th>3</th>\n",
       "      <td>25</td>\n",
       "      <td>The Oxford and Cambridge University Boat Race ...</td>\n",
       "      <td>NaN</td>\n",
       "    </tr>\n",
       "    <tr>\n",
       "      <th>4</th>\n",
       "      <td>0000091</td>\n",
       "      <td>Le manoir du diable (1896)</td>\n",
       "      <td>Short|Horror</td>\n",
       "    </tr>\n",
       "  </tbody>\n",
       "</table>\n",
       "</div>"
      ],
      "text/plain": [
       "  movie_id                                              movie  \\\n",
       "0  0000008      Edison Kinetoscopic Record of a Sneeze (1894)   \n",
       "1  0000010                La sortie des usines Lumière (1895)   \n",
       "2  0000012                      The Arrival of a Train (1896)   \n",
       "3       25  The Oxford and Cambridge University Boat Race ...   \n",
       "4  0000091                         Le manoir du diable (1896)   \n",
       "\n",
       "               genre  \n",
       "0  Documentary|Short  \n",
       "1  Documentary|Short  \n",
       "2  Documentary|Short  \n",
       "3                NaN  \n",
       "4       Short|Horror  "
      ]
     },
     "execution_count": 2,
     "metadata": {},
     "output_type": "execute_result"
    }
   ],
   "source": [
    "movies.head()"
   ]
  },
  {
   "cell_type": "code",
   "execution_count": 35,
   "metadata": {},
   "outputs": [],
   "source": [
    "n_movies = movies.shape[0]"
   ]
  },
  {
   "cell_type": "code",
   "execution_count": 4,
   "metadata": {
    "collapsed": true
   },
   "outputs": [
    {
     "data": {
      "text/plain": [
       "Drama                                                                      3602\n",
       "Comedy                                                                     2091\n",
       "Documentary                                                                1443\n",
       "Comedy|Drama                                                               1371\n",
       "Drama|Romance                                                              1199\n",
       "Comedy|Drama|Romance                                                        988\n",
       "Comedy|Romance                                                              846\n",
       "Horror                                                                      822\n",
       "Horror|Thriller                                                             563\n",
       "Drama|Thriller                                                              503\n",
       "Crime|Drama|Thriller                                                        480\n",
       "Crime|Drama                                                                 434\n",
       "Thriller                                                                    383\n",
       "Horror|Mystery|Thriller                                                     298\n",
       "Action|Crime|Thriller                                                       291\n",
       "Action|Crime|Drama|Thriller                                                 279\n",
       "Comedy|Horror                                                               232\n",
       "Action|Thriller                                                             231\n",
       "Drama|War                                                                   227\n",
       "Documentary|Music                                                           215\n",
       "Action|Drama                                                                214\n",
       "Comedy|Crime                                                                211\n",
       "Crime|Drama|Mystery|Thriller                                                209\n",
       "Biography|Drama                                                             208\n",
       "Action                                                                      199\n",
       "Action|Crime|Drama                                                          187\n",
       "Drama|Mystery|Thriller                                                      179\n",
       "Documentary|Comedy                                                          168\n",
       "Drama|Horror|Thriller                                                       166\n",
       "Action|Drama|Thriller                                                       164\n",
       "                                                                           ... \n",
       "Adventure|Comedy|Drama|Family|History                                         1\n",
       "Documentary|Short|News                                                        1\n",
       "Family|Adventure|Animation|Fantasy                                            1\n",
       "Action|Adventure|Comedy|Fantasy|Horror|Sci-Fi                                 1\n",
       "Adventure|Comedy|Music|Sci-Fi                                                 1\n",
       "Animation|Comedy|Drama|Family|Fantasy                                         1\n",
       "Drama|Adult                                                                   1\n",
       "Horror|Romance|War                                                            1\n",
       "Animation|Action|Adventure|Comedy|Sci-Fi                                      1\n",
       "Action|Adventure|Comedy|Crime|Music|Mystery                                   1\n",
       "Comedy|Drama|Music|Mystery|Romance                                            1\n",
       "Comedy|Crime|Family|Thriller                                                  1\n",
       "Crime|Film-Noir|Sport                                                         1\n",
       "Adventure|Crime|Sport                                                         1\n",
       "Animation|Fantasy|Horror|Sci-Fi                                               1\n",
       "Adventure|Drama|Family|Fantasy|Thriller                                       1\n",
       "Adventure|Sport                                                               1\n",
       "Short|Action|Adventure|Comedy|Fantasy|Sci-Fi                                  1\n",
       "Action|Comedy|Romance|Thriller                                                1\n",
       "Adventure|Drama|Family|Romance|Western                                        1\n",
       "Action|Drama|Musical|Romance|Thriller                                         1\n",
       "Sci-Fi|Short|Animation                                                        1\n",
       "Action|Drama|Fantasy|Sci-Fi                                                   1\n",
       "Documentary|Family|History|News                                               1\n",
       "Animation|Short|Fantasy|Horror|Mystery                                        1\n",
       "Animation|Adventure|Comedy|Family|Fantasy|Horror|Mystery|Romance|Sci-Fi       1\n",
       "Animation|Drama|Fantasy|Sci-Fi                                                1\n",
       "Short|Drama|Thriller|War                                                      1\n",
       "Animation|Horror|Mystery|Thriller                                             1\n",
       "Adult|Drama|Mystery                                                           1\n",
       "Name: genre, Length: 2736, dtype: int64"
      ]
     },
     "execution_count": 4,
     "metadata": {},
     "output_type": "execute_result"
    }
   ],
   "source": [
    "movies['genre'].value_counts()"
   ]
  },
  {
   "cell_type": "code",
   "execution_count": 30,
   "metadata": {},
   "outputs": [],
   "source": [
    "genres = movies['genre'].str.split('|', expand = True)\n",
    "cols = range(0, 10)"
   ]
  },
  {
   "cell_type": "code",
   "execution_count": 158,
   "metadata": {},
   "outputs": [],
   "source": [
    "genre_list = []\n",
    "for col in cols:\n",
    "    for element in genres[col].unique():\n",
    "        if element:\n",
    "            genre_list.append(element)\n",
    "genre_list = list(set(genre_list))"
   ]
  },
  {
   "cell_type": "code",
   "execution_count": 161,
   "metadata": {},
   "outputs": [],
   "source": [
    "try:\n",
    "    genre_list.remove(np.nan)\n",
    "except:\n",
    "    print('No nan found')"
   ]
  },
  {
   "cell_type": "code",
   "execution_count": 37,
   "metadata": {},
   "outputs": [],
   "source": [
    "n_genres = len(genre_list)"
   ]
  },
  {
   "cell_type": "code",
   "execution_count": 39,
   "metadata": {},
   "outputs": [
    {
     "data": {
      "text/plain": [
       "movie_id    0.000000\n",
       "movie       0.000000\n",
       "genre       0.007018\n",
       "dtype: float64"
      ]
     },
     "execution_count": 39,
     "metadata": {},
     "output_type": "execute_result"
    }
   ],
   "source": [
    "movies.isnull().mean()"
   ]
  },
  {
   "cell_type": "code",
   "execution_count": 40,
   "metadata": {},
   "outputs": [
    {
     "data": {
      "text/html": [
       "<div>\n",
       "<style scoped>\n",
       "    .dataframe tbody tr th:only-of-type {\n",
       "        vertical-align: middle;\n",
       "    }\n",
       "\n",
       "    .dataframe tbody tr th {\n",
       "        vertical-align: top;\n",
       "    }\n",
       "\n",
       "    .dataframe thead th {\n",
       "        text-align: right;\n",
       "    }\n",
       "</style>\n",
       "<table border=\"1\" class=\"dataframe\">\n",
       "  <thead>\n",
       "    <tr style=\"text-align: right;\">\n",
       "      <th></th>\n",
       "      <th>user_id</th>\n",
       "      <th>movie_id</th>\n",
       "      <th>rating</th>\n",
       "      <th>timestamp</th>\n",
       "    </tr>\n",
       "  </thead>\n",
       "  <tbody>\n",
       "    <tr>\n",
       "      <th>0</th>\n",
       "      <td>1</td>\n",
       "      <td>0114508</td>\n",
       "      <td>8</td>\n",
       "      <td>1381006850</td>\n",
       "    </tr>\n",
       "    <tr>\n",
       "      <th>1</th>\n",
       "      <td>2</td>\n",
       "      <td>0208092</td>\n",
       "      <td>5</td>\n",
       "      <td>1586466072</td>\n",
       "    </tr>\n",
       "    <tr>\n",
       "      <th>2</th>\n",
       "      <td>2</td>\n",
       "      <td>0358273</td>\n",
       "      <td>9</td>\n",
       "      <td>1579057827</td>\n",
       "    </tr>\n",
       "    <tr>\n",
       "      <th>3</th>\n",
       "      <td>2</td>\n",
       "      <td>10039344</td>\n",
       "      <td>5</td>\n",
       "      <td>1578603053</td>\n",
       "    </tr>\n",
       "    <tr>\n",
       "      <th>4</th>\n",
       "      <td>2</td>\n",
       "      <td>6751668</td>\n",
       "      <td>9</td>\n",
       "      <td>1578955697</td>\n",
       "    </tr>\n",
       "  </tbody>\n",
       "</table>\n",
       "</div>"
      ],
      "text/plain": [
       "  user_id  movie_id  rating   timestamp\n",
       "0       1   0114508       8  1381006850\n",
       "1       2   0208092       5  1586466072\n",
       "2       2   0358273       9  1579057827\n",
       "3       2  10039344       5  1578603053\n",
       "4       2   6751668       9  1578955697"
      ]
     },
     "execution_count": 40,
     "metadata": {},
     "output_type": "execute_result"
    }
   ],
   "source": [
    "reviews.head()"
   ]
  },
  {
   "cell_type": "code",
   "execution_count": 48,
   "metadata": {},
   "outputs": [
    {
     "data": {
      "text/plain": [
       "user_id      0.0\n",
       "movie_id     0.0\n",
       "rating       0.0\n",
       "timestamp    0.0\n",
       "dtype: float64"
      ]
     },
     "execution_count": 48,
     "metadata": {},
     "output_type": "execute_result"
    }
   ],
   "source": [
    "reviews.isnull().mean()"
   ]
  },
  {
   "cell_type": "code",
   "execution_count": 44,
   "metadata": {},
   "outputs": [],
   "source": [
    "n_reviews = reviews.shape[0]"
   ]
  },
  {
   "cell_type": "code",
   "execution_count": 45,
   "metadata": {},
   "outputs": [],
   "source": [
    "n_users = reviews['user_id'].nunique()"
   ]
  },
  {
   "cell_type": "code",
   "execution_count": 56,
   "metadata": {},
   "outputs": [
    {
     "data": {
      "text/plain": [
       "12.825946876902291"
      ]
     },
     "execution_count": 56,
     "metadata": {},
     "output_type": "execute_result"
    }
   ],
   "source": [
    "n_reviews/n_users"
   ]
  },
  {
   "cell_type": "code",
   "execution_count": 50,
   "metadata": {},
   "outputs": [],
   "source": [
    "mean_rat = reviews['rating'].mean()"
   ]
  },
  {
   "cell_type": "code",
   "execution_count": 52,
   "metadata": {},
   "outputs": [],
   "source": [
    "min_rat = reviews['rating'].min()"
   ]
  },
  {
   "cell_type": "code",
   "execution_count": 53,
   "metadata": {},
   "outputs": [],
   "source": [
    "max_rat = reviews['rating'].max()"
   ]
  },
  {
   "cell_type": "code",
   "execution_count": 55,
   "metadata": {},
   "outputs": [
    {
     "name": "stdout",
     "output_type": "stream",
     "text": [
      "{'The number of movies in the dataset': 35479, 'The number of ratings in the dataset': 863866, 'The number of different genres': 29, 'The number of unique users in the dataset': 67353, 'The number missing ratings in the reviews dataset': 0.0, 'The average rating given across all ratings': 7.3158776939942074, 'The minimum rating given across all ratings': 0, 'The maximum rating given across all ratings': 10}\n"
     ]
    }
   ],
   "source": [
    "# Use your findings to match each variable to the correct statement in the dictionary\n",
    "\n",
    "\n",
    "dict_sol1 = {\n",
    "'The number of movies in the dataset': n_movies,\n",
    "'The number of ratings in the dataset': n_reviews,\n",
    "'The number of different genres': n_genres,\n",
    "'The number of unique users in the dataset': n_users,\n",
    "'The number missing ratings in the reviews dataset': reviews.isnull().mean()['rating'],\n",
    "'The average rating given across all ratings': mean_rat,\n",
    "'The minimum rating given across all ratings': min_rat,\n",
    "'The maximum rating given across all ratings': max_rat\n",
    "}\n",
    "\n",
    "print(dict_sol1)\n"
   ]
  },
  {
   "cell_type": "markdown",
   "metadata": {},
   "source": [
    "#### 2. Data Cleaning\n",
    "\n",
    "Next, we need to pull some additional relevant information out of the existing columns. \n",
    "\n",
    "For each of the datasets, there are a couple of cleaning steps we need to take care of:\n",
    "\n",
    "#### Movies\n",
    "* Pull the date from the title and create new column\n",
    "* Dummy the date column with 1's and 0's for each century of a movie (1800's, 1900's, and 2000's)\n",
    "* Dummy column the genre with 1's and 0's\n",
    "\n",
    "#### Reviews\n",
    "* Create a date out of time stamp\n",
    "\n",
    "You can check your results against the header of my solution by running the cell below with the **show_clean_dataframes** function."
   ]
  },
  {
   "cell_type": "code",
   "execution_count": 224,
   "metadata": {},
   "outputs": [],
   "source": [
    "# Removing year parenthesis and renaming columns\n",
    "clean_movie = movies['movie'].str.split(\"(\", expand=True)\n",
    "clean_movie[1] = clean_movie[1].str.replace(\")\", \"\")\n",
    "clean_movie = clean_movie.rename(columns={0: \"movie\", 1: \"year\"})"
   ]
  },
  {
   "cell_type": "code",
   "execution_count": 225,
   "metadata": {},
   "outputs": [],
   "source": [
    "# Droping old movie column and adding new ones (name and year)\n",
    "new_movies = pd.concat([movies.drop(columns=['movie']), clean_movie], axis = 1)"
   ]
  },
  {
   "cell_type": "code",
   "execution_count": 226,
   "metadata": {},
   "outputs": [],
   "source": [
    "# Getting first two digits of year and creating dummy columns with century\n",
    "new_movies['cent'] = new_movies['year'].str[:2]\n",
    "new_movies = pd.get_dummies(new_movies, columns=['cent'])\n",
    "new_movies = new_movies.rename(columns={'cent_18': '1800s', 'cent_19': '1900s','cent_20': '2000s'})"
   ]
  },
  {
   "cell_type": "code",
   "execution_count": 227,
   "metadata": {},
   "outputs": [],
   "source": [
    "# Replacing NaN Genres with \"Empty\"\n",
    "new_movies.loc[(new_movies['genre'].isnull() == True), 'genre'] = 'Empty'"
   ]
  },
  {
   "cell_type": "code",
   "execution_count": 228,
   "metadata": {},
   "outputs": [],
   "source": [
    "# Creating dummy columns for each movie genre\n",
    "new_genres = pd.DataFrame()\n",
    "for genre in genre_list:\n",
    "    new_genres[genre] = new_movies['genre'].str.contains(genre).astype('int64')\n",
    "final_movies = pd.concat([new_movies, new_genres], axis = 1)"
   ]
  },
  {
   "cell_type": "code",
   "execution_count": 229,
   "metadata": {},
   "outputs": [
    {
     "data": {
      "text/html": [
       "<div>\n",
       "<style scoped>\n",
       "    .dataframe tbody tr th:only-of-type {\n",
       "        vertical-align: middle;\n",
       "    }\n",
       "\n",
       "    .dataframe tbody tr th {\n",
       "        vertical-align: top;\n",
       "    }\n",
       "\n",
       "    .dataframe thead th {\n",
       "        text-align: right;\n",
       "    }\n",
       "</style>\n",
       "<table border=\"1\" class=\"dataframe\">\n",
       "  <thead>\n",
       "    <tr style=\"text-align: right;\">\n",
       "      <th></th>\n",
       "      <th>movie_id</th>\n",
       "      <th>genre</th>\n",
       "      <th>movie</th>\n",
       "      <th>year</th>\n",
       "      <th>1800s</th>\n",
       "      <th>1900s</th>\n",
       "      <th>2000s</th>\n",
       "      <th>Reality-TV</th>\n",
       "      <th>Western</th>\n",
       "      <th>Horror</th>\n",
       "      <th>...</th>\n",
       "      <th>Family</th>\n",
       "      <th>Mystery</th>\n",
       "      <th>Animation</th>\n",
       "      <th>History</th>\n",
       "      <th>Sport</th>\n",
       "      <th>War</th>\n",
       "      <th>Film-Noir</th>\n",
       "      <th>Adult</th>\n",
       "      <th>Music</th>\n",
       "      <th>Drama</th>\n",
       "    </tr>\n",
       "  </thead>\n",
       "  <tbody>\n",
       "    <tr>\n",
       "      <th>0</th>\n",
       "      <td>0000008</td>\n",
       "      <td>Documentary|Short</td>\n",
       "      <td>Edison Kinetoscopic Record of a Sneeze</td>\n",
       "      <td>1894</td>\n",
       "      <td>1</td>\n",
       "      <td>0</td>\n",
       "      <td>0</td>\n",
       "      <td>0</td>\n",
       "      <td>0</td>\n",
       "      <td>0</td>\n",
       "      <td>...</td>\n",
       "      <td>0</td>\n",
       "      <td>0</td>\n",
       "      <td>0</td>\n",
       "      <td>0</td>\n",
       "      <td>0</td>\n",
       "      <td>0</td>\n",
       "      <td>0</td>\n",
       "      <td>0</td>\n",
       "      <td>0</td>\n",
       "      <td>0</td>\n",
       "    </tr>\n",
       "    <tr>\n",
       "      <th>1</th>\n",
       "      <td>0000010</td>\n",
       "      <td>Documentary|Short</td>\n",
       "      <td>La sortie des usines Lumière</td>\n",
       "      <td>1895</td>\n",
       "      <td>1</td>\n",
       "      <td>0</td>\n",
       "      <td>0</td>\n",
       "      <td>0</td>\n",
       "      <td>0</td>\n",
       "      <td>0</td>\n",
       "      <td>...</td>\n",
       "      <td>0</td>\n",
       "      <td>0</td>\n",
       "      <td>0</td>\n",
       "      <td>0</td>\n",
       "      <td>0</td>\n",
       "      <td>0</td>\n",
       "      <td>0</td>\n",
       "      <td>0</td>\n",
       "      <td>0</td>\n",
       "      <td>0</td>\n",
       "    </tr>\n",
       "    <tr>\n",
       "      <th>2</th>\n",
       "      <td>0000012</td>\n",
       "      <td>Documentary|Short</td>\n",
       "      <td>The Arrival of a Train</td>\n",
       "      <td>1896</td>\n",
       "      <td>1</td>\n",
       "      <td>0</td>\n",
       "      <td>0</td>\n",
       "      <td>0</td>\n",
       "      <td>0</td>\n",
       "      <td>0</td>\n",
       "      <td>...</td>\n",
       "      <td>0</td>\n",
       "      <td>0</td>\n",
       "      <td>0</td>\n",
       "      <td>0</td>\n",
       "      <td>0</td>\n",
       "      <td>0</td>\n",
       "      <td>0</td>\n",
       "      <td>0</td>\n",
       "      <td>0</td>\n",
       "      <td>0</td>\n",
       "    </tr>\n",
       "    <tr>\n",
       "      <th>3</th>\n",
       "      <td>25</td>\n",
       "      <td>Empty</td>\n",
       "      <td>The Oxford and Cambridge University Boat Race</td>\n",
       "      <td>1895</td>\n",
       "      <td>1</td>\n",
       "      <td>0</td>\n",
       "      <td>0</td>\n",
       "      <td>0</td>\n",
       "      <td>0</td>\n",
       "      <td>0</td>\n",
       "      <td>...</td>\n",
       "      <td>0</td>\n",
       "      <td>0</td>\n",
       "      <td>0</td>\n",
       "      <td>0</td>\n",
       "      <td>0</td>\n",
       "      <td>0</td>\n",
       "      <td>0</td>\n",
       "      <td>0</td>\n",
       "      <td>0</td>\n",
       "      <td>0</td>\n",
       "    </tr>\n",
       "    <tr>\n",
       "      <th>4</th>\n",
       "      <td>0000091</td>\n",
       "      <td>Short|Horror</td>\n",
       "      <td>Le manoir du diable</td>\n",
       "      <td>1896</td>\n",
       "      <td>1</td>\n",
       "      <td>0</td>\n",
       "      <td>0</td>\n",
       "      <td>0</td>\n",
       "      <td>0</td>\n",
       "      <td>1</td>\n",
       "      <td>...</td>\n",
       "      <td>0</td>\n",
       "      <td>0</td>\n",
       "      <td>0</td>\n",
       "      <td>0</td>\n",
       "      <td>0</td>\n",
       "      <td>0</td>\n",
       "      <td>0</td>\n",
       "      <td>0</td>\n",
       "      <td>0</td>\n",
       "      <td>0</td>\n",
       "    </tr>\n",
       "  </tbody>\n",
       "</table>\n",
       "<p>5 rows × 35 columns</p>\n",
       "</div>"
      ],
      "text/plain": [
       "  movie_id              genre                                           movie  \\\n",
       "0  0000008  Documentary|Short         Edison Kinetoscopic Record of a Sneeze    \n",
       "1  0000010  Documentary|Short                   La sortie des usines Lumière    \n",
       "2  0000012  Documentary|Short                         The Arrival of a Train    \n",
       "3       25              Empty  The Oxford and Cambridge University Boat Race    \n",
       "4  0000091       Short|Horror                            Le manoir du diable    \n",
       "\n",
       "   year  1800s  1900s  2000s  Reality-TV  Western  Horror  ...    Family  \\\n",
       "0  1894      1      0      0           0        0       0  ...         0   \n",
       "1  1895      1      0      0           0        0       0  ...         0   \n",
       "2  1896      1      0      0           0        0       0  ...         0   \n",
       "3  1895      1      0      0           0        0       0  ...         0   \n",
       "4  1896      1      0      0           0        0       1  ...         0   \n",
       "\n",
       "   Mystery  Animation  History  Sport  War  Film-Noir  Adult  Music  Drama  \n",
       "0        0          0        0      0    0          0      0      0      0  \n",
       "1        0          0        0      0    0          0      0      0      0  \n",
       "2        0          0        0      0    0          0      0      0      0  \n",
       "3        0          0        0      0    0          0      0      0      0  \n",
       "4        0          0        0      0    0          0      0      0      0  \n",
       "\n",
       "[5 rows x 35 columns]"
      ]
     },
     "execution_count": 229,
     "metadata": {},
     "output_type": "execute_result"
    }
   ],
   "source": [
    "final_movies.head()"
   ]
  },
  {
   "cell_type": "code",
   "execution_count": 230,
   "metadata": {},
   "outputs": [
    {
     "data": {
      "text/plain": [
       "user_id      object\n",
       "movie_id     object\n",
       "rating        int64\n",
       "timestamp    object\n",
       "dtype: object"
      ]
     },
     "execution_count": 230,
     "metadata": {},
     "output_type": "execute_result"
    }
   ],
   "source": [
    "# Reviews - checking timestamp column\n",
    "reviews.dtypes"
   ]
  },
  {
   "cell_type": "code",
   "execution_count": 231,
   "metadata": {},
   "outputs": [],
   "source": [
    "# Creating copy of reviews and converting timestamp to int\n",
    "new_reviews = reviews.copy()\n",
    "new_reviews['timestamp'] = new_reviews['timestamp'].astype('int64')"
   ]
  },
  {
   "cell_type": "code",
   "execution_count": 233,
   "metadata": {},
   "outputs": [],
   "source": [
    "# Date Column\n",
    "new_reviews['date'] = new_reviews['timestamp'].apply(datetime.fromtimestamp)"
   ]
  },
  {
   "cell_type": "code",
   "execution_count": 243,
   "metadata": {},
   "outputs": [],
   "source": [
    "# Month and year columns - as str to help get_dummies later\n",
    "new_reviews['month'] = new_reviews['date'].apply(lambda x: x.month).astype('str')\n",
    "new_reviews['year'] = new_reviews['date'].apply(lambda x: x.year).astype('str')"
   ]
  },
  {
   "cell_type": "code",
   "execution_count": 251,
   "metadata": {},
   "outputs": [],
   "source": [
    "# Dummies for month and year\n",
    "new_reviews = pd.get_dummies(new_reviews, columns = ['month', 'year'])"
   ]
  },
  {
   "cell_type": "code",
   "execution_count": 252,
   "metadata": {},
   "outputs": [
    {
     "data": {
      "text/html": [
       "<div>\n",
       "<style scoped>\n",
       "    .dataframe tbody tr th:only-of-type {\n",
       "        vertical-align: middle;\n",
       "    }\n",
       "\n",
       "    .dataframe tbody tr th {\n",
       "        vertical-align: top;\n",
       "    }\n",
       "\n",
       "    .dataframe thead th {\n",
       "        text-align: right;\n",
       "    }\n",
       "</style>\n",
       "<table border=\"1\" class=\"dataframe\">\n",
       "  <thead>\n",
       "    <tr style=\"text-align: right;\">\n",
       "      <th></th>\n",
       "      <th>user_id</th>\n",
       "      <th>movie_id</th>\n",
       "      <th>rating</th>\n",
       "      <th>timestamp</th>\n",
       "      <th>date</th>\n",
       "      <th>month_1</th>\n",
       "      <th>month_10</th>\n",
       "      <th>month_11</th>\n",
       "      <th>month_12</th>\n",
       "      <th>month_2</th>\n",
       "      <th>...</th>\n",
       "      <th>month_8</th>\n",
       "      <th>month_9</th>\n",
       "      <th>year_2013</th>\n",
       "      <th>year_2014</th>\n",
       "      <th>year_2015</th>\n",
       "      <th>year_2016</th>\n",
       "      <th>year_2017</th>\n",
       "      <th>year_2018</th>\n",
       "      <th>year_2019</th>\n",
       "      <th>year_2020</th>\n",
       "    </tr>\n",
       "  </thead>\n",
       "  <tbody>\n",
       "    <tr>\n",
       "      <th>0</th>\n",
       "      <td>1</td>\n",
       "      <td>0114508</td>\n",
       "      <td>8</td>\n",
       "      <td>1381006850</td>\n",
       "      <td>2013-10-05 21:00:50</td>\n",
       "      <td>0</td>\n",
       "      <td>1</td>\n",
       "      <td>0</td>\n",
       "      <td>0</td>\n",
       "      <td>0</td>\n",
       "      <td>...</td>\n",
       "      <td>0</td>\n",
       "      <td>0</td>\n",
       "      <td>1</td>\n",
       "      <td>0</td>\n",
       "      <td>0</td>\n",
       "      <td>0</td>\n",
       "      <td>0</td>\n",
       "      <td>0</td>\n",
       "      <td>0</td>\n",
       "      <td>0</td>\n",
       "    </tr>\n",
       "    <tr>\n",
       "      <th>1</th>\n",
       "      <td>2</td>\n",
       "      <td>0208092</td>\n",
       "      <td>5</td>\n",
       "      <td>1586466072</td>\n",
       "      <td>2020-04-09 21:01:12</td>\n",
       "      <td>0</td>\n",
       "      <td>0</td>\n",
       "      <td>0</td>\n",
       "      <td>0</td>\n",
       "      <td>0</td>\n",
       "      <td>...</td>\n",
       "      <td>0</td>\n",
       "      <td>0</td>\n",
       "      <td>0</td>\n",
       "      <td>0</td>\n",
       "      <td>0</td>\n",
       "      <td>0</td>\n",
       "      <td>0</td>\n",
       "      <td>0</td>\n",
       "      <td>0</td>\n",
       "      <td>1</td>\n",
       "    </tr>\n",
       "    <tr>\n",
       "      <th>2</th>\n",
       "      <td>2</td>\n",
       "      <td>0358273</td>\n",
       "      <td>9</td>\n",
       "      <td>1579057827</td>\n",
       "      <td>2020-01-15 03:10:27</td>\n",
       "      <td>1</td>\n",
       "      <td>0</td>\n",
       "      <td>0</td>\n",
       "      <td>0</td>\n",
       "      <td>0</td>\n",
       "      <td>...</td>\n",
       "      <td>0</td>\n",
       "      <td>0</td>\n",
       "      <td>0</td>\n",
       "      <td>0</td>\n",
       "      <td>0</td>\n",
       "      <td>0</td>\n",
       "      <td>0</td>\n",
       "      <td>0</td>\n",
       "      <td>0</td>\n",
       "      <td>1</td>\n",
       "    </tr>\n",
       "    <tr>\n",
       "      <th>3</th>\n",
       "      <td>2</td>\n",
       "      <td>10039344</td>\n",
       "      <td>5</td>\n",
       "      <td>1578603053</td>\n",
       "      <td>2020-01-09 20:50:53</td>\n",
       "      <td>1</td>\n",
       "      <td>0</td>\n",
       "      <td>0</td>\n",
       "      <td>0</td>\n",
       "      <td>0</td>\n",
       "      <td>...</td>\n",
       "      <td>0</td>\n",
       "      <td>0</td>\n",
       "      <td>0</td>\n",
       "      <td>0</td>\n",
       "      <td>0</td>\n",
       "      <td>0</td>\n",
       "      <td>0</td>\n",
       "      <td>0</td>\n",
       "      <td>0</td>\n",
       "      <td>1</td>\n",
       "    </tr>\n",
       "    <tr>\n",
       "      <th>4</th>\n",
       "      <td>2</td>\n",
       "      <td>6751668</td>\n",
       "      <td>9</td>\n",
       "      <td>1578955697</td>\n",
       "      <td>2020-01-13 22:48:17</td>\n",
       "      <td>1</td>\n",
       "      <td>0</td>\n",
       "      <td>0</td>\n",
       "      <td>0</td>\n",
       "      <td>0</td>\n",
       "      <td>...</td>\n",
       "      <td>0</td>\n",
       "      <td>0</td>\n",
       "      <td>0</td>\n",
       "      <td>0</td>\n",
       "      <td>0</td>\n",
       "      <td>0</td>\n",
       "      <td>0</td>\n",
       "      <td>0</td>\n",
       "      <td>0</td>\n",
       "      <td>1</td>\n",
       "    </tr>\n",
       "  </tbody>\n",
       "</table>\n",
       "<p>5 rows × 25 columns</p>\n",
       "</div>"
      ],
      "text/plain": [
       "  user_id  movie_id  rating   timestamp                date  month_1  \\\n",
       "0       1   0114508       8  1381006850 2013-10-05 21:00:50        0   \n",
       "1       2   0208092       5  1586466072 2020-04-09 21:01:12        0   \n",
       "2       2   0358273       9  1579057827 2020-01-15 03:10:27        1   \n",
       "3       2  10039344       5  1578603053 2020-01-09 20:50:53        1   \n",
       "4       2   6751668       9  1578955697 2020-01-13 22:48:17        1   \n",
       "\n",
       "   month_10  month_11  month_12  month_2    ...      month_8  month_9  \\\n",
       "0         1         0         0        0    ...            0        0   \n",
       "1         0         0         0        0    ...            0        0   \n",
       "2         0         0         0        0    ...            0        0   \n",
       "3         0         0         0        0    ...            0        0   \n",
       "4         0         0         0        0    ...            0        0   \n",
       "\n",
       "   year_2013  year_2014  year_2015  year_2016  year_2017  year_2018  \\\n",
       "0          1          0          0          0          0          0   \n",
       "1          0          0          0          0          0          0   \n",
       "2          0          0          0          0          0          0   \n",
       "3          0          0          0          0          0          0   \n",
       "4          0          0          0          0          0          0   \n",
       "\n",
       "   year_2019  year_2020  \n",
       "0          0          0  \n",
       "1          0          1  \n",
       "2          0          1  \n",
       "3          0          1  \n",
       "4          0          1  \n",
       "\n",
       "[5 rows x 25 columns]"
      ]
     },
     "execution_count": 252,
     "metadata": {},
     "output_type": "execute_result"
    }
   ],
   "source": [
    "new_reviews.head()"
   ]
  },
  {
   "cell_type": "code",
   "execution_count": 82,
   "metadata": {},
   "outputs": [
    {
     "name": "stdout",
     "output_type": "stream",
     "text": [
      "   Unnamed: 0  user_id  movie_id  rating   timestamp                 date  \\\n",
      "0           0        1     68646      10  1381620027  2013-10-12 23:20:27   \n",
      "1           1        1    113277      10  1379466669  2013-09-18 01:11:09   \n",
      "2           2        2    422720       8  1412178746  2014-10-01 15:52:26   \n",
      "3           3        2    454876       8  1394818630  2014-03-14 17:37:10   \n",
      "4           4        2    790636       7  1389963947  2014-01-17 13:05:47   \n",
      "\n",
      "   month_1  month_2  month_3  month_4    ...      month_9  month_10  month_11  \\\n",
      "0        0        0        0        0    ...            0         1         0   \n",
      "1        0        0        0        0    ...            0         0         0   \n",
      "2        0        0        0        0    ...            0         1         0   \n",
      "3        0        0        0        0    ...            0         0         0   \n",
      "4        0        0        0        0    ...            0         0         0   \n",
      "\n",
      "   month_12  year_2013  year_2014  year_2015  year_2016  year_2017  year_2018  \n",
      "0         0          1          0          0          0          0          0  \n",
      "1         0          1          0          0          0          0          0  \n",
      "2         0          0          1          0          0          0          0  \n",
      "3         0          0          1          0          0          0          0  \n",
      "4         0          0          1          0          0          0          0  \n",
      "\n",
      "[5 rows x 24 columns]\n",
      "   Unnamed: 0  movie_id                                              movie  \\\n",
      "0           0         8      Edison Kinetoscopic Record of a Sneeze (1894)   \n",
      "1           1        10                La sortie des usines Lumière (1895)   \n",
      "2           2        12                      The Arrival of a Train (1896)   \n",
      "3           3        25  The Oxford and Cambridge University Boat Race ...   \n",
      "4           4        91                         Le manoir du diable (1896)   \n",
      "\n",
      "               genre  date  1800's  1900's  2000's  History  News    ...     \\\n",
      "0  Documentary|Short  1894       1       0       0        0     0    ...      \n",
      "1  Documentary|Short  1895       1       0       0        0     0    ...      \n",
      "2  Documentary|Short  1896       1       0       0        0     0    ...      \n",
      "3                NaN  1895       1       0       0        0     0    ...      \n",
      "4       Short|Horror  1896       1       0       0        0     0    ...      \n",
      "\n",
      "   Fantasy  Romance  Game-Show  Action  Documentary  Animation  Comedy  Short  \\\n",
      "0        0        0          0       0            1          0       0      1   \n",
      "1        0        0          0       0            1          0       0      1   \n",
      "2        0        0          0       0            1          0       0      1   \n",
      "3        0        0          0       0            0          0       0      0   \n",
      "4        0        0          0       0            0          0       0      1   \n",
      "\n",
      "   Western  Thriller  \n",
      "0        0         0  \n",
      "1        0         0  \n",
      "2        0         0  \n",
      "3        0         0  \n",
      "4        0         0  \n",
      "\n",
      "[5 rows x 36 columns]\n"
     ]
    }
   ],
   "source": [
    "reviews_new, movies_new = t.show_clean_dataframes()"
   ]
  }
 ],
 "metadata": {
  "kernelspec": {
   "display_name": "Python 3",
   "language": "python",
   "name": "python3"
  },
  "language_info": {
   "codemirror_mode": {
    "name": "ipython",
    "version": 3
   },
   "file_extension": ".py",
   "mimetype": "text/x-python",
   "name": "python",
   "nbconvert_exporter": "python",
   "pygments_lexer": "ipython3",
   "version": "3.6.3"
  }
 },
 "nbformat": 4,
 "nbformat_minor": 2
}
